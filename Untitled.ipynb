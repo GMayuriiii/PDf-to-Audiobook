{
 "cells": [
  {
   "cell_type": "code",
   "execution_count": 1,
   "id": "163a24ca",
   "metadata": {},
   "outputs": [],
   "source": [
    "import streamlit as st\n",
    "import base64\n",
    "#from pdf2image import convert_from_path\n",
    "import tempfile\n",
    "from pathlib import Path\n",
    "import pyttsx3\n",
    "import PyPDF2"
   ]
  },
  {
   "cell_type": "code",
   "execution_count": 3,
   "id": "a8c74d1c",
   "metadata": {},
   "outputs": [],
   "source": [
    "def main():\n",
    "    st.title(\"PDF to audio\")\n",
    "    uploaded_file = st.file_uploader('Choose your .pdf file', type=\"pdf\")\n",
    "    if uploaded_file is not None:\n",
    "        with tempfile.NamedTemporaryFile(delete=False) as tmp_file:\n",
    "            st.markdown(\"## Original PDF file\")\n",
    "            fp = Path(tmp_file.name)\n",
    "            fp.write_bytes(uploaded_file.getvalue())\n",
    "            st.write(show_pdf(tmp_file.name))\n",
    "\n",
    "            #imgs = convert_from_path(tmp_file.name)\n",
    "\n",
    "            #st.markdown(f\"Converted images from PDF\")\n",
    "            #st.image(imgs)\n",
    "        audio=st.button(\"Play\")\n",
    "        if audio==\"yes\":\n",
    "            texttoaudio(tmp_file.name)"
   ]
  },
  {
   "cell_type": "code",
   "execution_count": null,
   "id": "4f71b6df",
   "metadata": {},
   "outputs": [],
   "source": []
  },
  {
   "cell_type": "code",
   "execution_count": null,
   "id": "01b3dffa",
   "metadata": {},
   "outputs": [],
   "source": []
  }
 ],
 "metadata": {
  "kernelspec": {
   "display_name": "Python 3",
   "language": "python",
   "name": "python3"
  },
  "language_info": {
   "codemirror_mode": {
    "name": "ipython",
    "version": 3
   },
   "file_extension": ".py",
   "mimetype": "text/x-python",
   "name": "python",
   "nbconvert_exporter": "python",
   "pygments_lexer": "ipython3",
   "version": "3.8.8"
  }
 },
 "nbformat": 4,
 "nbformat_minor": 5
}
